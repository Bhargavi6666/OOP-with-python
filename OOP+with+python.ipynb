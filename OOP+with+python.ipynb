{
 "cells": [
  {
   "cell_type": "markdown",
   "metadata": {},
   "source": [
    "# Hi, I am Neel Shah\n",
    "## Wroking at Datalog.ai and IDLI on Data analyst, Machine learnig and Deep Learning\n",
    "\n",
    "Contact details:\n",
    "\n",
    "1) Website: https://neelshah18.github.io/ \n",
    "\n",
    "2) GitHub: https://github.com/NeelShah18 \n",
    "\n",
    "3) LinkedIn: https://www.linkedin.com/in/neel-shah-7b5495104/ \n",
    "\n",
    "4) Facebook: https://www.facebook.com/neelxyz\n",
    "\n",
    "*** all code and data are available on my GitHub account under MIT open source licence***"
   ]
  },
  {
   "cell_type": "markdown",
   "metadata": {},
   "source": [
    "* Though many computer scientists and programmers consider OOP to be a modern programming paradigm, the roots go back to 1960s. The first programming language to use objects was Simula 67. As the name implies, Simula 67 was introduced in the year 1967. A major breakthrough for object-oriented programming came with the programming language Smalltalk in the 1970s. \n",
    "\n",
    "#### Following two concept is explain everything the use of OOPs.\n",
    "\n",
    "1. Duplicate code is a Bad.\n",
    "\n",
    "2. Code will always be changed.\n",
    "\n",
    "#### Object-Oriented Programming has the following advantages:\n",
    "\n",
    "* OOP provides a clear modular structure for programs which makes it good for defining abstract datatypes where implementation details are hidden and the unit has a clearly defined interface.\n",
    "* OOP makes it easy to maintain and modify existing code as new objects can be created with small differences to existing ones.\n",
    "* OOP provides a good framework for code libraries where supplied software components can be easily adapted and modified by the programmer. This is particularly useful for developing graphical user interfaces."
   ]
  },
  {
   "cell_type": "markdown",
   "metadata": {},
   "source": [
    "#### Terminology:\n",
    "\n",
    "* **Class**: A user-defined prototype for an object that defines a set of attributes that characterize any object of the class. The attributes are data members (class variables and instance variables) and methods, accessed via dot notation.\n",
    "\n",
    "* **Class variable**: A variable that is shared by all instances of a class. Class variables are defined within a class but outside any of the class's methods. Class variables are not used as frequently as instance variables are.\n",
    "\n",
    "* **Data member**: A class variable or instance variable that holds data associated with a class and its objects. \n",
    "\n",
    "* **Instance variable**: A variable that is defined inside a method and belongs only to the current instance of a class.\n",
    "\n",
    "* **Inheritance**: The transfer of the characteristics of a class to other classes that are derived from it.\n",
    "\n",
    "* **Instance**: An individual object of a certain class. An object obj that belongs to a class Circle, for example, is an instance of the class Circle.\n",
    "\n",
    "* **Method**: A special kind of function that is defined in a class definition.\n",
    "\n",
    "* **Object**: A unique instance of a data structure that's defined by its class. An object comprises both data members (class variables and instance variables) and methods. \n",
    "\n",
    "* **Function overloading**: The assignment of more than one behavior to a particular function. The operation performed varies by the types of objects or arguments involved."
   ]
  },
  {
   "cell_type": "markdown",
   "metadata": {},
   "source": [
    "#### Everything in class is python:\n",
    "Even though we haven't talked about classes and object orientation in previous chapters, we have worked with classes all the time. In fact, everything is a class in Python."
   ]
  },
  {
   "cell_type": "code",
   "execution_count": 5,
   "metadata": {},
   "outputs": [
    {
     "name": "stdout",
     "output_type": "stream",
     "text": [
      "<class 'int'>\n",
      "<class 'function'>\n",
      "<class 'module'>\n"
     ]
    },
    {
     "data": {
      "text/plain": [
       "'As you can see, everything in python is class.'"
      ]
     },
     "execution_count": 5,
     "metadata": {},
     "output_type": "execute_result"
    }
   ],
   "source": [
    "import math\n",
    "\n",
    "x = 4\n",
    "print(type(x))\n",
    "\n",
    "def f(x):\n",
    "    return x+1\n",
    "print(type(f))\n",
    "print(type(math))\n",
    "'''As you can see, everything in python is class.'''"
   ]
  },
  {
   "cell_type": "code",
   "execution_count": 6,
   "metadata": {},
   "outputs": [
    {
     "name": "stdout",
     "output_type": "stream",
     "text": [
      "True\n",
      "False\n"
     ]
    }
   ],
   "source": [
    "# Creating Classes\n",
    "\n",
    "class Robot:\n",
    "    pass\n",
    "\n",
    "if __name__ == \"__main__\":\n",
    "    x = Robot()\n",
    "    y = Robot()\n",
    "    y2 = y\n",
    "    print(y == y2)\n",
    "    print(y == x)"
   ]
  },
  {
   "cell_type": "code",
   "execution_count": 19,
   "metadata": {},
   "outputs": [
    {
     "name": "stdout",
     "output_type": "stream",
     "text": [
      "700\n",
      "550\n"
     ]
    },
    {
     "data": {
      "text/plain": [
       "'This is basic example of class in python with __init__, methods'"
      ]
     },
     "execution_count": 19,
     "metadata": {},
     "output_type": "execute_result"
    }
   ],
   "source": [
    "class Customer(object):\n",
    "    \"\"\"A customer of ABC Bank with a checking account. Customers have the\n",
    "    following properties:\n",
    "\n",
    "    Attributes:\n",
    "        name: A string representing the customer's name.\n",
    "        balance: A float tracking the current balance of the customer's account.\n",
    "    \"\"\"\n",
    "\n",
    "    def __init__(self, name, balance=0.0):\n",
    "        \"\"\"Return a Customer object whose name is *name* and starting\n",
    "        balance is *balance*.\"\"\"\n",
    "        self.name = name\n",
    "        self.balance = balance\n",
    "\n",
    "    def withdraw(self, amount):\n",
    "        \"\"\"Return the balance remaining after withdrawing *amount*\n",
    "        dollars.\"\"\"\n",
    "        if amount > self.balance:\n",
    "            raise RuntimeError('Amount greater than available balance.')\n",
    "        self.balance -= amount\n",
    "        return self.balance\n",
    "\n",
    "    def deposit(self, amount):\n",
    "        \"\"\"Return the balance remaining after depositing *amount*\n",
    "        dollars.\"\"\"\n",
    "        self.balance += amount\n",
    "        return self.balance\n",
    "\n",
    "neel = Customer(neel, 500)\n",
    "print(neel.deposit(200))\n",
    "print(neel.withdraw(150))\n",
    "\n",
    "'''This is basic example of class in python with __init__, methods'''"
   ]
  },
  {
   "cell_type": "markdown",
   "metadata": {},
   "source": [
    "The first method __init__() is a special method, which is called class constructor or initialization method that Python calls when you create a new instance of this class.\n",
    "\n",
    "You declare other class methods like normal functions with the exception that the first argument to each method is self. Python adds the self argument to the list for you; you do not need to include it when you call the methods.\n",
    "\n",
    "So what's with that self parameter to all of the Customer methods? What is it? Why, it's the instance, of course! Put another way, a method like withdraw defines the instructions for withdrawing money from some abstract customer's account. Calling jeff.withdraw(100.0) puts those instructions to use on the jeff instance."
   ]
  },
  {
   "cell_type": "code",
   "execution_count": 8,
   "metadata": {},
   "outputs": [
    {
     "name": "stdout",
     "output_type": "stream",
     "text": [
      "Hi, I am a robot without a name\n",
      "Hi, I am Marvin\n"
     ]
    }
   ],
   "source": [
    "# one more example\n",
    "\n",
    "class Robot:\n",
    " \n",
    "    def __init__(self, name=None):\n",
    "        self.name = name   \n",
    "        \n",
    "    def say_hi(self):\n",
    "        if self.name:\n",
    "            print(\"Hi, I am \" + self.name)\n",
    "        else:\n",
    "            print(\"Hi, I am a robot without a name\")\n",
    "    \n",
    "\n",
    "x = Robot()\n",
    "x.say_hi()\n",
    "y = Robot(\"Marvin\")\n",
    "y.say_hi()"
   ]
  },
  {
   "cell_type": "markdown",
   "metadata": {},
   "source": [
    "#### Public- Protected- and Private Attributes\n",
    "\n",
    "Python uses a special naming scheme for attributes to control the accessibility of the attributes. So far, we have used attribute names, which can be freely used inside or outside of a class definition, as we have seen. This corresponds to public attributes of course.\n",
    "\n",
    "There are two ways to restrict the access to class attributes:\n",
    "\n",
    "* First, we can prefix an attribute name with a leading underscore \"_\". This marks the attribute as protected. It tells users of the class not to use this attribute unless, somebody writes a subclass. We will learn about inheritance and subclassing in the next chapter of our tutorial.\n",
    "    \n",
    "* Second, we can prefix an attribute name with two leading underscores \"__\". The attribute is now inaccessible and invisible from outside. It's neither possible to read nor write to those attributes except inside of the class definition itself.5\n",
    "\n",
    "1) name--> Public--> These attributes can be freely used inside or outside of a class definition.\n",
    "\n",
    "2) _name--> Protected--> Protected attributes should not be used outside of the class definition, unless inside of a subclass definition.\n",
    "\n",
    "3) __name--> Private--> This kind of attribute is inaccessible and invisible. It's neither possible to read nor write to those attributes, except inside of the class definition itself."
   ]
  },
  {
   "cell_type": "code",
   "execution_count": 15,
   "metadata": {},
   "outputs": [
    {
     "name": "stdout",
     "output_type": "stream",
     "text": [
      "I am public\n",
      "I am public and my value can be changed\n",
      "I am protected\n"
     ]
    },
    {
     "ename": "AttributeError",
     "evalue": "'A' object has no attribute '__priv'",
     "output_type": "error",
     "traceback": [
      "\u001b[0;31m---------------------------------------------------------------------------\u001b[0m",
      "\u001b[0;31mAttributeError\u001b[0m                            Traceback (most recent call last)",
      "\u001b[0;32m<ipython-input-15-7b9b44920b69>\u001b[0m in \u001b[0;36m<module>\u001b[0;34m()\u001b[0m\n\u001b[1;32m     11\u001b[0m \u001b[0mprint\u001b[0m\u001b[0;34m(\u001b[0m\u001b[0mx\u001b[0m\u001b[0;34m.\u001b[0m\u001b[0mpub\u001b[0m \u001b[0;34m+\u001b[0m \u001b[0;34m\" and my value can be changed\"\u001b[0m\u001b[0;34m)\u001b[0m\u001b[0;34m\u001b[0m\u001b[0m\n\u001b[1;32m     12\u001b[0m \u001b[0mprint\u001b[0m\u001b[0;34m(\u001b[0m\u001b[0mx\u001b[0m\u001b[0;34m.\u001b[0m\u001b[0m_prot\u001b[0m\u001b[0;34m)\u001b[0m\u001b[0;34m\u001b[0m\u001b[0m\n\u001b[0;32m---> 13\u001b[0;31m \u001b[0mx\u001b[0m\u001b[0;34m.\u001b[0m\u001b[0m__priv\u001b[0m\u001b[0;34m\u001b[0m\u001b[0m\n\u001b[0m",
      "\u001b[0;31mAttributeError\u001b[0m: 'A' object has no attribute '__priv'"
     ]
    }
   ],
   "source": [
    "# Attribute accessibility example\n",
    "class A():\n",
    "    \n",
    "    def __init__(self):\n",
    "        self.__priv = \"I am private\"\n",
    "        self._prot = \"I am protected\"\n",
    "        self.pub = \"I am public\"\n",
    "\n",
    "x = A()\n",
    "print(x.pub)\n",
    "print(x.pub + \" and my value can be changed\")\n",
    "print(x._prot)\n",
    "x.__priv"
   ]
  },
  {
   "cell_type": "markdown",
   "metadata": {},
   "source": [
    "The error message is very interesting. One might have expected a message like \"__priv is private\". We get the message \"AttributeError: 'A' object has no attribute '__priv'\" instead, which looks like a \"lie\". There is such an attribute, but we are told that there isn't. This is perfect information hiding. Telling a user that an attribute name is private, means that we make some information visible, i.e. the existence or non-existence of a private variable."
   ]
  },
  {
   "cell_type": "markdown",
   "metadata": {},
   "source": [
    "#### Destructor:\n",
    "\n",
    "What we said about constructors holds true for destructors as well. There is no \"real\" destructor, but something similar, i.e. the method __del__. It is called when the instance is about to be destroyed and if there is no other reference to this instance. If a base class has a __del__() method, the derived class's __del__() method, if any, must explicitly call it to ensure proper deletion of the base class part of the instance.\n",
    "\n",
    "***The destructor was called after the program ended, not when ft went out of scope inside make_foo.***\n"
   ]
  },
  {
   "cell_type": "code",
   "execution_count": 38,
   "metadata": {
    "scrolled": true
   },
   "outputs": [
    {
     "name": "stdout",
     "output_type": "stream",
     "text": [
      "1 born\n",
      "1 died\n"
     ]
    }
   ],
   "source": [
    "class FooType(object):\n",
    "    id = 0\n",
    "    def __init__(self, id):\n",
    "        self.id = id\n",
    "        print(self.id, 'born')\n",
    "\n",
    "    def __del__(self):\n",
    "        print(self.id, 'died')\n",
    "\n",
    "\n",
    "ft = FooType(1)"
   ]
  },
  {
   "cell_type": "markdown",
   "metadata": {},
   "source": [
    "#### Inheritance\n",
    "\n",
    "One of the major benefits of object oriented programming is reuse of code and one of the ways this is achieved is through the inheritance mechanism. Inheritance can be best imagined as implementing a type and subtype relationship between classes.\n",
    "\n",
    "Suppose you want to write a program which has to keep track of the teachers and students in a college. They have some common characteristics such as name, age and address. They also have specific characteristics such as salary, courses and leaves for teachers and, marks and fees for students.\n",
    "\n",
    "You can create two independent classes for each type and process them but adding a new common characteristic would mean adding to both of these independent classes. This quickly becomes unwieldy.\n"
   ]
  },
  {
   "cell_type": "code",
   "execution_count": 41,
   "metadata": {},
   "outputs": [
    {
     "name": "stdout",
     "output_type": "stream",
     "text": [
      "(Initialized SchoolMember: Mr. Neel)\n",
      "(Initialized Teacher: Mr. Neel)\n",
      "(Initialized SchoolMember: Mr. Water)\n",
      "(Initialized Student: Mr. Water)\n",
      "\n",
      "Name:\"Mr. Neel\" Age:\"24\" Salary: \"30000\"\n",
      "Name:\"Mr. Water\" Age:\"20\" Marks: \"75\"\n"
     ]
    }
   ],
   "source": [
    "class SchoolMember:\n",
    "    '''Represents any school member.'''\n",
    "    def __init__(self, name, age):\n",
    "        self.name = name\n",
    "        self.age = age\n",
    "        print('(Initialized SchoolMember: {})'.format(self.name))\n",
    "\n",
    "    def tell(self):\n",
    "        '''Tell my details.'''\n",
    "        print('Name:\"{}\" Age:\"{}\"'.format(self.name, self.age), end=\" \")\n",
    "\n",
    "\n",
    "class Teacher(SchoolMember):\n",
    "    '''Represents a teacher.'''\n",
    "    def __init__(self, name, age, salary):\n",
    "        SchoolMember.__init__(self, name, age)\n",
    "        self.salary = salary\n",
    "        print('(Initialized Teacher: {})'.format(self.name))\n",
    "\n",
    "    def tell(self):\n",
    "        SchoolMember.tell(self)\n",
    "        print('Salary: \"{:d}\"'.format(self.salary))\n",
    "\n",
    "\n",
    "class Student(SchoolMember):\n",
    "    '''Represents a student.'''\n",
    "    def __init__(self, name, age, marks):\n",
    "        SchoolMember.__init__(self, name, age)\n",
    "        self.marks = marks\n",
    "        print('(Initialized Student: {})'.format(self.name))\n",
    "\n",
    "    def tell(self):\n",
    "        SchoolMember.tell(self)\n",
    "        print('Marks: \"{:d}\"'.format(self.marks))\n",
    "\n",
    "t = Teacher('Mr. Neel', 24, 30000)\n",
    "s = Student('Mr. Water', 20, 75)\n",
    "\n",
    "# prints a blank line\n",
    "print()\n",
    "\n",
    "members = [t, s]\n",
    "for member in members:\n",
    "    # Works for both Teachers and Students\n",
    "    member.tell()"
   ]
  },
  {
   "cell_type": "markdown",
   "metadata": {},
   "source": [
    "#### Polymorphism\n",
    "\n",
    "In a child class we can change how some methods work whilst keeping the same name. We call this polymorphism or overriding and it is useful because we do not want to keep introducing new method names for functionality that is pretty similar in each class.\n",
    "\n"
   ]
  },
  {
   "cell_type": "code",
   "execution_count": 43,
   "metadata": {},
   "outputs": [
    {
     "name": "stdout",
     "output_type": "stream",
     "text": [
      "message from A\n",
      "message from B\n"
     ]
    }
   ],
   "source": [
    "class A():\n",
    " \n",
    "    def __init__(self):\n",
    "        self.__x = 1\n",
    " \n",
    "    def message(self):\n",
    "        print(\"message from A\")\n",
    " \n",
    " \n",
    "class B(A):\n",
    " \n",
    "    def __init__(self):\n",
    "        self.__y = 1\n",
    " \n",
    "    def message(self):\n",
    "        print(\"message from B\")\n",
    "\n",
    "try_1 = A()\n",
    "try_1.message()\n",
    "\n",
    "try_2 = B()\n",
    "try_2.message()"
   ]
  },
  {
   "cell_type": "markdown",
   "metadata": {},
   "source": [
    "**This is the end of the OOP concept.\n",
    "Hope you like it and not bored!**\n",
    "\n",
    "You can download all material from github account or website.\n",
    "\n",
    "1) Website: https://neelshah18.github.io/\n",
    "\n",
    "2) GitHub: https://github.com/NeelShah18/OOP-with-python"
   ]
  },
  {
   "cell_type": "markdown",
   "metadata": {},
   "source": [
    "#### References:\n",
    "\n",
    "1) http://www.python-course.eu/object_oriented_programming.php\n",
    "\n",
    "2) http://thepythonguru.com/python-inheritance-and-polymorphism/\n",
    "\n",
    "3) https://pythonschool.net/oop/inheritance-and-polymorphism/"
   ]
  }
 ],
 "metadata": {
  "kernelspec": {
   "display_name": "Python 3",
   "language": "python",
   "name": "python3"
  },
  "language_info": {
   "codemirror_mode": {
    "name": "ipython",
    "version": 3
   },
   "file_extension": ".py",
   "mimetype": "text/x-python",
   "name": "python",
   "nbconvert_exporter": "python",
   "pygments_lexer": "ipython3",
   "version": "3.6.1"
  }
 },
 "nbformat": 4,
 "nbformat_minor": 2
}
